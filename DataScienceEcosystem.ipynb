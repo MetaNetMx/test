{
  "cells": [
    {
      "cell_type": "markdown",
      "metadata": {
        "id": "view-in-github",
        "colab_type": "text"
      },
      "source": [
        "<a href=\"https://colab.research.google.com/github/MetaNetMx/test/blob/main/DataScienceEcosystem.ipynb\" target=\"_parent\"><img src=\"https://colab.research.google.com/assets/colab-badge.svg\" alt=\"Open In Colab\"/></a>"
      ]
    },
    {
      "cell_type": "markdown",
      "id": "342ce2aa-0d86-41a1-82c6-f8cd2341e8e9",
      "metadata": {
        "id": "342ce2aa-0d86-41a1-82c6-f8cd2341e8e9"
      },
      "source": [
        "# Data Science Tools and Ecosystem"
      ]
    },
    {
      "cell_type": "markdown",
      "id": "94f4ba23-eea3-48f4-a032-e5148b6cd061",
      "metadata": {
        "id": "94f4ba23-eea3-48f4-a032-e5148b6cd061"
      },
      "source": [
        "In this notebook, Data Science Tools and Ecosystem are summarized."
      ]
    },
    {
      "cell_type": "markdown",
      "id": "1476afcf-3f87-4b36-934e-e9b176b89336",
      "metadata": {
        "id": "1476afcf-3f87-4b36-934e-e9b176b89336"
      },
      "source": [
        "Some of the popular languages that Data Scientists use are:\n",
        "1. Python\n",
        "2. R\n",
        "3. SQL"
      ]
    },
    {
      "cell_type": "markdown",
      "id": "88cde959-68e8-4d98-be6b-bd12924e5563",
      "metadata": {
        "id": "88cde959-68e8-4d98-be6b-bd12924e5563"
      },
      "source": [
        "Some of the commonly used libraries used by Data Scientists include:\n",
        "1. NumPy\n",
        "2. Pandas\n",
        "3. SciPy"
      ]
    },
    {
      "cell_type": "markdown",
      "id": "ed290199-3698-4e39-a498-6d073f300d1e",
      "metadata": {
        "id": "ed290199-3698-4e39-a498-6d073f300d1e"
      },
      "source": [
        "| Data Science tools |\n",
        "|---------|\n",
        "|Jupyter Notebook|\n",
        "|R Studio|\n",
        "|Git Hub|"
      ]
    },
    {
      "cell_type": "markdown",
      "id": "c392f23f-76b6-44ce-bd95-718f5b7ecd09",
      "metadata": {
        "id": "c392f23f-76b6-44ce-bd95-718f5b7ecd09"
      },
      "source": [
        "### Below are a few examples of evaluating arithmetic expressions in Python."
      ]
    },
    {
      "cell_type": "code",
      "execution_count": null,
      "id": "ca5e5423-d32d-4515-9df2-a7d16c9d08a3",
      "metadata": {
        "id": "ca5e5423-d32d-4515-9df2-a7d16c9d08a3",
        "outputId": "4444dffc-fb2a-4366-8ed7-0d952845863d"
      },
      "outputs": [
        {
          "data": {
            "text/plain": [
              "17"
            ]
          },
          "execution_count": 1,
          "metadata": {},
          "output_type": "execute_result"
        }
      ],
      "source": [
        "#This is a simple arithmetic expression to multiply then add intergers\n",
        "(3*4)+5"
      ]
    },
    {
      "cell_type": "code",
      "execution_count": null,
      "id": "9f3e7bd7-a8c9-44a9-ac1f-2a1f05293f52",
      "metadata": {
        "id": "9f3e7bd7-a8c9-44a9-ac1f-2a1f05293f52",
        "outputId": "e755c271-8e73-44e1-e26f-979678579ac0"
      },
      "outputs": [
        {
          "data": {
            "text/plain": [
              "3.3333333333333335"
            ]
          },
          "execution_count": 2,
          "metadata": {},
          "output_type": "execute_result"
        }
      ],
      "source": [
        "#This will convert 200 minutes to hours by dividing by 60\n",
        "200/60"
      ]
    },
    {
      "cell_type": "markdown",
      "id": "f0e1098a-584f-46c7-97d8-55dab93e16e4",
      "metadata": {
        "id": "f0e1098a-584f-46c7-97d8-55dab93e16e4"
      },
      "source": [
        "##### Objectives:\n",
        "* List popular languages for Data Science\n",
        "* Learn how to create Markdown cells\n",
        "* List most popular libraries for Data Science\n"
      ]
    },
    {
      "cell_type": "markdown",
      "id": "036d1342-a74b-4a55-9e44-b25f4d23e3d1",
      "metadata": {
        "id": "036d1342-a74b-4a55-9e44-b25f4d23e3d1"
      },
      "source": [
        "## Author\n",
        "Ernesto Ramirez"
      ]
    },
    {
      "cell_type": "markdown",
      "id": "f5b1ca1e-ce03-4730-9027-f4b8bfe8aed3",
      "metadata": {
        "id": "f5b1ca1e-ce03-4730-9027-f4b8bfe8aed3"
      },
      "source": [
        "Git Hub: https://github.com/bahx0015/IBA-Data-Science-Coursera.git"
      ]
    },
    {
      "cell_type": "code",
      "execution_count": null,
      "id": "c772cfd6-b5f1-4f79-b22c-498031b28b9e",
      "metadata": {
        "id": "c772cfd6-b5f1-4f79-b22c-498031b28b9e"
      },
      "outputs": [],
      "source": []
    }
  ],
  "metadata": {
    "kernelspec": {
      "display_name": "Python 3 (ipykernel)",
      "language": "python",
      "name": "python3"
    },
    "language_info": {
      "codemirror_mode": {
        "name": "ipython",
        "version": 3
      },
      "file_extension": ".py",
      "mimetype": "text/x-python",
      "name": "python",
      "nbconvert_exporter": "python",
      "pygments_lexer": "ipython3",
      "version": "3.7.1"
    },
    "colab": {
      "provenance": [],
      "include_colab_link": true
    }
  },
  "nbformat": 4,
  "nbformat_minor": 5
}